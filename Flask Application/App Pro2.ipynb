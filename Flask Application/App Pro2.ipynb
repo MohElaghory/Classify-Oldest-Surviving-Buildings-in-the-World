{
 "cells": [
  {
   "cell_type": "code",
   "execution_count": 1,
   "metadata": {},
   "outputs": [
    {
     "name": "stdout",
     "output_type": "stream",
     "text": [
      " * Serving Flask app \"__main__\" (lazy loading)\n",
      " * Environment: production\n",
      "   WARNING: This is a development server. Do not use it in a production deployment.\n",
      "   Use a production WSGI server instead.\n",
      " * Debug mode: off\n"
     ]
    },
    {
     "name": "stderr",
     "output_type": "stream",
     "text": [
      " * Running on http://127.0.0.1:3770/ (Press CTRL+C to quit)\n",
      "127.0.0.1 - - [22/Jun/2022 19:03:09] \"\u001b[37mGET / HTTP/1.1\u001b[0m\" 200 -\n",
      "127.0.0.1 - - [22/Jun/2022 19:03:13] \"\u001b[37mGET /static/css/style%20pro2.css HTTP/1.1\u001b[0m\" 200 -\n",
      "127.0.0.1 - - [22/Jun/2022 19:03:16] \"\u001b[36mGET /static/js/main.js HTTP/1.1\u001b[0m\" 304 -\n",
      "127.0.0.1 - - [22/Jun/2022 19:03:17] \"\u001b[36mGET /static/js/jquery-3.6.0.min.js HTTP/1.1\u001b[0m\" 304 -\n",
      "127.0.0.1 - - [22/Jun/2022 19:03:27] \"\u001b[32mGET /favicon.ico HTTP/1.1\u001b[0m\" 302 -\n",
      "127.0.0.1 - - [22/Jun/2022 19:03:27] \"\u001b[33mGET /static/uploads/favicon.ico HTTP/1.1\u001b[0m\" 404 -\n"
     ]
    },
    {
     "name": "stdout",
     "output_type": "stream",
     "text": [
      "Colosseum5.jpg\n"
     ]
    },
    {
     "name": "stderr",
     "output_type": "stream",
     "text": [
      "127.0.0.1 - - [22/Jun/2022 19:06:28] \"\u001b[37mPOST / HTTP/1.1\u001b[0m\" 200 -\n",
      "127.0.0.1 - - [22/Jun/2022 19:06:28] \"\u001b[32mGET /Colosseum5.jpg HTTP/1.1\u001b[0m\" 302 -\n",
      "127.0.0.1 - - [22/Jun/2022 19:06:28] \"\u001b[37mGET /static/uploads/Colosseum5.jpg HTTP/1.1\u001b[0m\" 200 -\n"
     ]
    }
   ],
   "source": [
    "from flask import Flask, render_template, request, url_for, redirect, flash\n",
    "import urllib.request\n",
    "import os\n",
    "from werkzeug.utils import secure_filename\n",
    "import numpy as np\n",
    "import matplotlib.pyplot as plt\n",
    "import cv2\n",
    "import tensorflow as tf\n",
    "from tensorflow import keras\n",
    "from keras.models import load_model\n",
    "from gevent.pywsgi import WSGIServer\n",
    "\n",
    "\n",
    "model = load_model('oldest surviving buildings in the world6.h5')\n",
    "\n",
    "# to make dictionary from names:\n",
    "names= ['Colosseum', 'Temple of Garni', 'Dun Carloway', 'Ruwanwelisaya', 'Great Wall of China', 'Mausoleum of the First Qin Emperor', 'Dhamek Stupa', 'Sanchi Stupa', 'Thracion Tomb of Kazanlak', \"Naveta d'Es Tudons\", 'Chogha Zanbil', 'Pyramids of Giza', 'Bent Pyramid', 'Pyramid of Djoser', 'Dolmens of North Caucasus', 'Ggantija']\n",
    "lst= list(range(len(names)))\n",
    "\n",
    "code= dict()\n",
    "for key, value in zip(names, lst):\n",
    "  code[key] = value\n",
    "  code[key] = value\n",
    "  code[key] = value\n",
    "  code[key] = value\n",
    "\n",
    "def getcode(n) : \n",
    "    for x , y in code.items() : \n",
    "        if n == y : \n",
    "            return x     \n",
    "\n",
    "\n",
    "# to make dictionary from first_built:\n",
    "first_built= ['70-80 A.D', 'C. 77 A.D', '100 B.C', '140 B.C', '221 B.C', 'Began Constructurction 240 B.C, Finished 208 B.C', '249 B.C, Rebuilt C. 500 A.D', '300 B.C', '300-400 B.C', '1200-750 B.C', '1250 B.C', '2550-2490 B.C', '2580 B.C', '2667-2648 B.C', '3000 B.C', '3700 B.C']\n",
    "\n",
    "fst_built= dict()\n",
    "for key, value in zip(first_built, lst):\n",
    "  fst_built[key] = value\n",
    "  fst_built[key] = value\n",
    "  fst_built[key] = value\n",
    "  fst_built[key] = value\n",
    "\n",
    "def get_first_built(n) : \n",
    "    for x , y in fst_built.items() : \n",
    "        if n == y : \n",
    "            return x  \n",
    "\n",
    "        \n",
    "app= Flask(__name__)\n",
    "app.secret_key= \"nooormamdouh65\"\n",
    "UPLOAD_FOLDER= 'static/uploads/'\n",
    "app.config['UPLOAD_FOLDER']= UPLOAD_FOLDER\n",
    "\n",
    "ALLOWED_EXTENSIONS= set(['png', 'jpg', 'jpeg', 'gif'])\n",
    "def allowed_file(filename):\n",
    "    return filename.split('.')[1].lower() in ALLOWED_EXTENSIONS\n",
    "\n",
    "\n",
    "@app.route('/')\n",
    "def homepage():\n",
    "    return render_template(\"index proj2.html\")\n",
    "\n",
    "@app.route('/', methods= ['POST'])    # دي معمول كده route زي ما ال methods= ['POST']  بتاعها لازم يكون '/' وال action اللي ال template اللي في ال form يعني الفانكشن دي هتشتغل مع ال POST أنا هنا هشتغل\n",
    "def upload_image():\n",
    "    if 'file' not in request.files:   # مش أسم تاني 'file' اللي أسمه type من نوع input فأنت كده في المكان الغلط او الفانكشن الغلط لأن الفانكشن دي بتشتغل علي التاج 'file' بتاعه مأسمهوش name ده لو ال file اللي نوعه input لو التاج ال    \n",
    "        flash('No File Part')\n",
    "        return redirect(request.url)\n",
    "\n",
    "    file= request.files['file']       # request template اللي في ال name=\"file\" الفايل او الصوره اللي هتتبعت هتبقي اللي جت من التاج اللي ال\n",
    "    if file.filename == '':           # فلو الفايل اللي اتبعت ماليهوش اسم يعني لو اسمه فاضي فمعني كده ان مافيش جاجه اتبعتت يعني مافيش صوره اتبعتت فبعد ازنك مافيش صوره اترفعت لينا وارجع تاني للصفحه الرأيسيه ارفعلي صوره تانيه\n",
    "        flash('No Image Selected For Uploading')\n",
    "        return redirect(request.url)  # فأرجعلي عليالصفحه الرأيسيه هاتلي صوره تانيه\n",
    "    \n",
    "    if file and allowed_file(file.filename):         # ALLOWED_EXTENSIONS بتوع extensions بتاع الصوره من ضمن ال extension موجود فيه صور فعلاً وكمان اسم ال file تب لو ال\n",
    "      \n",
    "        filename= secure_filename(file.filename)     # بتاع الصوره secure_filename يبقي اسم الصوره هو ال \n",
    "        print(filename)\n",
    "        file.save(os.path.join(app.config['UPLOAD_FOLDER'], filename))     # ['static/uploads/أسم الصوره'] واحفظلي الصوره في المسار ده\n",
    "        flash('Image Succuessfully Uploaded & Displayed Below')            # render_template وقتها بقي قولي أن الصوره فعلاً اترفعت وسيتم عرضها في الاسفل مباشراً وفعلا هروح اعرضها ب\n",
    "    \n",
    "\n",
    "        img_array= plt.imread(file)        # read image as array\n",
    "        s= 150\n",
    "        img_resize= cv2.resize(img_array, (s, s))\n",
    "        img_gray= cv2.cvtColor(img_resize, cv2.COLOR_RGB2GRAY) \n",
    "        image_shape = (s, s, 1)\n",
    "        img_gray = img_gray.reshape(1, *image_shape)\n",
    "        # print(test_img.shape)\n",
    "        test_img= img_gray / 255        # to normalize image\n",
    "        y_pred = model.predict(test_img)\n",
    "        # labels= ['buildings', 'forest', 'glacier', 'mountain', 'sea', 'street']\n",
    "        pred_result= getcode(np.argmax(y_pred, axis=1))\n",
    "        first_built_result= get_first_built(np.argmax(y_pred, axis=1))\n",
    "        \n",
    "        # country_code_lst= ['ita.svg', 'arm.svg', 'gbr.svg', 'sri.svg', 'chn.svg', 'chn.svg', 'ind.svg', 'ind.svg', 'bgr.svg', 'esp.svg', 'irn.svg', 'egy.svg', 'egy.svg', 'egy.svg', 'rus.svg', 'mlt.svg']   \n",
    "        country_name_lst= ['Italy', 'Armenia', 'United Kingdom', 'Sir Lanka', 'China', 'China', 'India', 'India', 'Bulgaria', 'Spain', 'Iran', 'Egypt', 'Egypt', 'Egypt', 'Rusia', 'Malta']   \n",
    "        arg_max= np.argmax(y_pred, axis=1)\n",
    "        country_name= country_name_lst[arg_max[0]]\n",
    "        \n",
    "        return render_template('index proj2.html', filename= filename, pred_result= pred_result, first_built_result= first_built_result, country_name= country_name)\n",
    "    \n",
    "    else:\n",
    "        flash('The uploaded image not in this types:  [\"png\", \"jpg\", \"jpeg\", \"gif\"]')       # ALLOWED_EXTENSIONS بتوع extensions موجود فيه صور فعلاً ولكن الصور مش من ضمن ال file تب لو ال\n",
    "        return redirect(request.url)        # فأرجعلي تاني علي الصفحه الرأيسيه حملي صوره تانيه تكون من الأنواع المذكورة\n",
    "    \n",
    "\n",
    "# @app.route('/display/<filename>')\n",
    "@app.route('/<filename>')\n",
    "def display_image(filename):\n",
    "    return redirect(url_for('static', filename= 'uploads/' + filename))\n",
    "\n",
    "\n",
    "if __name__ == '__main__':\n",
    "    app.run(port =3770)\n"
   ]
  },
  {
   "cell_type": "code",
   "execution_count": null,
   "metadata": {},
   "outputs": [],
   "source": []
  }
 ],
 "metadata": {
  "kernelspec": {
   "display_name": "Python 3.8.8 ('base')",
   "language": "python",
   "name": "python3"
  },
  "language_info": {
   "codemirror_mode": {
    "name": "ipython",
    "version": 3
   },
   "file_extension": ".py",
   "mimetype": "text/x-python",
   "name": "python",
   "nbconvert_exporter": "python",
   "pygments_lexer": "ipython3",
   "version": "3.8.8"
  },
  "orig_nbformat": 4,
  "vscode": {
   "interpreter": {
    "hash": "a5311e18dfc3e063ac42dbc969e260af87f6a615b44aa0a0224889100fb2b22b"
   }
  }
 },
 "nbformat": 4,
 "nbformat_minor": 2
}
